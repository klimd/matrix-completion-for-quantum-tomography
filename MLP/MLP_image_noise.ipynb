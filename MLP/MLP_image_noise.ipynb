{
 "cells": [
  {
   "cell_type": "code",
   "execution_count": 1,
   "id": "cf4c4292",
   "metadata": {},
   "outputs": [],
   "source": [
    "import cv2\n",
    "import os\n",
    "\n",
    "import numpy as np\n",
    "from matplotlib import pyplot as plt\n",
    "\n",
    "from tensorflow.keras.optimizers import Adam\n",
    "from tensorflow.keras.backend import clear_session \n",
    "from tensorflow.keras.datasets import mnist\n",
    "from tensorflow.keras.models import Sequential\n",
    "from tensorflow.keras.layers import Dense"
   ]
  },
  {
   "cell_type": "code",
   "execution_count": 35,
   "id": "15a21255",
   "metadata": {},
   "outputs": [
    {
     "data": {
      "text/plain": [
       "(50, 28, 28)"
      ]
     },
     "execution_count": 35,
     "metadata": {},
     "output_type": "execute_result"
    }
   ],
   "source": [
    "(trainX, trainY), (testX, testY) = mnist.load_data()\n",
    "num_of_test = 60\n",
    "testX = trainX[0:num_of_test] \n",
    "trainX = trainX[0:num_of_test-10]\n",
    "size_x = 28\n",
    "size_y = 28\n",
    "trainX.shape"
   ]
  },
  {
   "cell_type": "code",
   "execution_count": 16,
   "id": "1edc9c72",
   "metadata": {},
   "outputs": [],
   "source": [
    "# Load all images in the folder\n",
    "img_folder = 'pres'\n",
    "original_images = []\n",
    "for image in os.listdir(img_folder):\n",
    "    original_images.append(cv2.imread(img_folder + \"\\\\\" + image, 0))"
   ]
  },
  {
   "cell_type": "code",
   "execution_count": 17,
   "id": "5875f20f",
   "metadata": {},
   "outputs": [],
   "source": [
    "# Resize them so that they are all equal size\n",
    "resized = []\n",
    "size_x = 120\n",
    "size_y = 120\n",
    "for image in original_images:\n",
    "    resized.append(cv2.resize(image, [size_x, size_y], interpolation = cv2.INTER_AREA))"
   ]
  },
  {
   "cell_type": "code",
   "execution_count": 18,
   "id": "1b8d2c70",
   "metadata": {},
   "outputs": [
    {
     "data": {
      "text/plain": [
       "(2, 120, 120)"
      ]
     },
     "execution_count": 18,
     "metadata": {},
     "output_type": "execute_result"
    }
   ],
   "source": [
    "resized = np.array(resized)\n",
    "num_of_test = resized.shape[0]\n",
    "testX = resized[0:num_of_test] \n",
    "trainX = resized[0:num_of_test-1]\n",
    "trainX.shape"
   ]
  },
  {
   "cell_type": "code",
   "execution_count": 36,
   "id": "73122cb9",
   "metadata": {},
   "outputs": [],
   "source": [
    "def train_model(trainX, testX, noise_percentage=0.2, learning_rate=0.001, num_layers=1, epochs=10, batch_size=1, num_of_test=1):\n",
    "    clear_session()\n",
    "    # Normalize\n",
    "    trainX = trainX.astype('float32') / 255\n",
    "    testX = testX.astype('float32') / 255\n",
    "    \n",
    "    # Make 1D image\n",
    "    pixel_size = trainX.shape[1] * trainX.shape[2]\n",
    "    trainX = trainX.reshape(trainX.shape[0], pixel_size)\n",
    "    testX = testX.reshape(testX.shape[0], pixel_size)\n",
    "    # Add noise\n",
    "    trainX_noise = trainX + noise_percentage * np.random.normal(loc=0.0, scale=1.0, size=trainX.shape)\n",
    "    testX_noise = testX + noise_percentage * np.random.normal(loc=0.0, scale=1.0, size=testX.shape)\n",
    "    trainX_noise = np.clip(trainX_noise, 0., 1.)\n",
    "    testX_noise = np.clip(testX_noise, 0., 1.)\n",
    "    \n",
    "    # Make model\n",
    "    model = Sequential()\n",
    "    if num_layers == 1:\n",
    "        model.add(Dense(10, input_dim=pixel_size, activation='relu'))\n",
    "        model.add(Dense(pixel_size, activation='sigmoid'))\n",
    "        \n",
    "    elif num_layers == 2:\n",
    "        model.add(Dense(10, input_dim=pixel_size, activation='sigmoid'))\n",
    "        model.add(Dense(20, activation='sigmoid'))\n",
    "        model.add(Dense(pixel_size, activation='sigmoid'))\n",
    "    else:\n",
    "        model.add(Dense(10, input_dim=pixel_size, activation='sigmoid'))\n",
    "        for _ in range(num_layers-1):\n",
    "            model.add(Dense(20, activation='sigmoid'))\n",
    "        model.add(Dense(pixel_size, activation='sigmoid'))\n",
    "    \n",
    "    opt = Adam(learning_rate=0.01)\n",
    "    model.compile(loss='mse', optimizer=opt)\n",
    "    model.fit(trainX_noise, trainX, validation_data=(testX_noise, testX), epochs=epochs, batch_size=batch_size)\n",
    "    \n",
    "    prediction = model.predict(testX_noise)\n",
    "    \n",
    "    prediction = np.reshape(prediction, (num_of_test, size_x, size_y))\n",
    "    testX_noise = np.reshape(testX_noise, (-1, size_x, size_y))\n",
    "    return prediction, testX_noise"
   ]
  },
  {
   "cell_type": "code",
   "execution_count": 37,
   "id": "f1203923",
   "metadata": {},
   "outputs": [
    {
     "name": "stdout",
     "output_type": "stream",
     "text": [
      "Epoch 1/5\n",
      "50/50 [==============================] - 0s 3ms/step - loss: 0.0987 - val_loss: 0.0712\n",
      "Epoch 2/5\n",
      "50/50 [==============================] - 0s 2ms/step - loss: 0.0656 - val_loss: 0.0622\n",
      "Epoch 3/5\n",
      "50/50 [==============================] - 0s 2ms/step - loss: 0.0607 - val_loss: 0.0600\n",
      "Epoch 4/5\n",
      "50/50 [==============================] - 0s 2ms/step - loss: 0.0586 - val_loss: 0.0595\n",
      "Epoch 5/5\n",
      "50/50 [==============================] - 0s 2ms/step - loss: 0.0556 - val_loss: 0.0559\n",
      "2/2 [==============================] - 0s 1ms/step\n"
     ]
    }
   ],
   "source": [
    "pred, testX_noise = train_model(trainX, testX, noise_percentage=0.2, learning_rate=1e-2, num_layers=1, epochs=5, batch_size=1, num_of_test=num_of_test)"
   ]
  },
  {
   "cell_type": "code",
   "execution_count": 38,
   "id": "e625422e",
   "metadata": {},
   "outputs": [
    {
     "data": {
      "text/plain": [
       "array([[False, False, False, False, False, False, False, False, False,\n",
       "        False, False, False, False, False, False, False, False, False,\n",
       "        False, False, False, False, False, False, False, False, False,\n",
       "        False],\n",
       "       [False, False, False, False, False, False, False, False, False,\n",
       "        False, False, False, False, False, False, False, False, False,\n",
       "        False, False, False, False, False, False, False, False, False,\n",
       "        False],\n",
       "       [False, False, False, False, False, False, False, False, False,\n",
       "        False, False, False, False, False, False, False, False, False,\n",
       "        False, False, False, False, False, False, False, False, False,\n",
       "        False],\n",
       "       [False, False, False, False, False, False, False, False, False,\n",
       "        False, False, False, False, False, False, False, False, False,\n",
       "        False, False, False, False, False, False, False, False, False,\n",
       "        False],\n",
       "       [False, False, False, False, False, False, False, False, False,\n",
       "        False, False, False, False, False, False, False, False, False,\n",
       "        False, False, False, False, False, False, False, False, False,\n",
       "        False],\n",
       "       [False, False, False, False, False, False, False, False, False,\n",
       "        False, False, False, False, False, False, False, False, False,\n",
       "        False, False, False, False, False, False, False, False, False,\n",
       "        False],\n",
       "       [False, False, False, False, False, False, False, False, False,\n",
       "        False, False, False, False, False, False, False, False, False,\n",
       "        False, False, False, False, False, False, False, False, False,\n",
       "        False],\n",
       "       [False, False, False, False, False, False, False, False, False,\n",
       "        False, False, False, False, False, False, False, False, False,\n",
       "        False, False, False, False, False, False, False, False, False,\n",
       "        False],\n",
       "       [False, False, False, False, False, False, False, False, False,\n",
       "        False, False, False, False, False, False, False, False, False,\n",
       "        False, False, False, False, False, False, False, False, False,\n",
       "        False],\n",
       "       [False, False, False, False, False, False, False, False, False,\n",
       "        False, False, False, False, False, False, False, False, False,\n",
       "        False, False, False, False, False, False, False, False, False,\n",
       "        False],\n",
       "       [False, False, False, False, False, False, False, False, False,\n",
       "        False, False, False, False, False, False, False, False, False,\n",
       "        False, False, False, False, False, False, False, False, False,\n",
       "        False],\n",
       "       [False, False, False, False, False, False, False, False, False,\n",
       "        False, False, False, False, False, False, False, False, False,\n",
       "        False, False, False, False, False, False, False, False, False,\n",
       "        False],\n",
       "       [False, False, False, False, False, False, False, False, False,\n",
       "        False, False, False, False, False, False, False, False, False,\n",
       "        False, False, False, False, False, False, False, False, False,\n",
       "        False],\n",
       "       [False, False, False, False, False, False, False, False, False,\n",
       "        False, False, False, False, False, False, False, False, False,\n",
       "        False, False, False, False, False, False, False, False, False,\n",
       "        False],\n",
       "       [False, False, False, False, False, False, False, False, False,\n",
       "        False, False, False, False, False, False, False, False, False,\n",
       "        False, False, False, False, False, False, False, False, False,\n",
       "        False],\n",
       "       [False, False, False, False, False, False, False, False, False,\n",
       "        False, False, False, False, False, False, False, False, False,\n",
       "        False, False, False, False, False, False, False, False, False,\n",
       "        False],\n",
       "       [False, False, False, False, False, False, False, False, False,\n",
       "        False, False, False, False, False, False, False, False, False,\n",
       "        False, False, False, False, False, False, False, False, False,\n",
       "        False],\n",
       "       [False, False, False, False, False, False, False, False, False,\n",
       "        False, False, False, False, False, False, False, False, False,\n",
       "        False, False, False, False, False, False, False, False, False,\n",
       "        False],\n",
       "       [False, False, False, False, False, False, False, False, False,\n",
       "        False, False, False, False, False, False, False, False, False,\n",
       "        False, False, False, False, False, False, False, False, False,\n",
       "        False],\n",
       "       [False, False, False, False, False, False, False, False, False,\n",
       "        False, False, False, False, False, False, False, False, False,\n",
       "        False, False, False, False, False, False, False, False, False,\n",
       "        False],\n",
       "       [False, False, False, False, False, False, False, False, False,\n",
       "        False, False, False, False, False, False, False, False, False,\n",
       "        False, False, False, False, False, False, False, False, False,\n",
       "        False],\n",
       "       [False, False, False, False, False, False, False, False, False,\n",
       "        False, False, False, False, False, False, False, False, False,\n",
       "        False, False, False, False, False, False, False, False, False,\n",
       "        False],\n",
       "       [False, False, False, False, False, False, False, False, False,\n",
       "        False, False, False, False, False, False, False, False, False,\n",
       "        False, False, False, False, False, False, False, False, False,\n",
       "        False],\n",
       "       [False, False, False, False, False, False, False, False, False,\n",
       "        False, False, False, False, False, False, False, False, False,\n",
       "        False, False, False, False, False, False, False, False, False,\n",
       "        False],\n",
       "       [False, False, False, False, False, False, False, False, False,\n",
       "        False, False, False, False, False, False, False, False, False,\n",
       "        False, False, False, False, False, False, False, False, False,\n",
       "        False],\n",
       "       [False, False, False, False, False, False, False, False, False,\n",
       "        False, False, False, False, False, False, False, False, False,\n",
       "        False, False, False, False, False, False, False, False, False,\n",
       "        False],\n",
       "       [False, False, False, False, False, False, False, False, False,\n",
       "        False, False, False, False, False, False, False, False, False,\n",
       "        False, False, False, False, False, False, False, False, False,\n",
       "        False],\n",
       "       [False, False, False, False, False, False, False, False, False,\n",
       "        False, False, False, False, False, False, False, False, False,\n",
       "        False, False, False, False, False, False, False, False, False,\n",
       "        False]])"
      ]
     },
     "execution_count": 38,
     "metadata": {},
     "output_type": "execute_result"
    }
   ],
   "source": [
    "pred[0]==pred[2]"
   ]
  },
  {
   "cell_type": "code",
   "execution_count": 41,
   "id": "6da6301a",
   "metadata": {},
   "outputs": [],
   "source": [
    "num_image=55"
   ]
  },
  {
   "cell_type": "code",
   "execution_count": 42,
   "id": "520865e2",
   "metadata": {},
   "outputs": [
    {
     "name": "stdout",
     "output_type": "stream",
     "text": [
      "Test Image\n"
     ]
    },
    {
     "data": {
      "image/png": "[encoded data removed]",
      "text/plain": [
       "<Figure size 1000x200 with 1 Axes>"
      ]
     },
     "metadata": {},
     "output_type": "display_data"
    },
    {
     "name": "stdout",
     "output_type": "stream",
     "text": [
      "Test Image with Noise\n"
     ]
    },
    {
     "data": {
      "image/png": "[encoded data removed]",
      "text/plain": [
       "<Figure size 1000x200 with 1 Axes>"
      ]
     },
     "metadata": {},
     "output_type": "display_data"
    },
    {
     "name": "stdout",
     "output_type": "stream",
     "text": [
      "Reconstruction of Noisy Test Images\n"
     ]
    },
    {
     "data": {
      "image/png": "[encoded data removed]",
      "text/plain": [
       "<Figure size 1000x200 with 1 Axes>"
      ]
     },
     "metadata": {},
     "output_type": "display_data"
    }
   ],
   "source": [
    "plt.figure(figsize=(10, 2))\n",
    "print(\"Test Image\")\n",
    "plt.imshow(testX[num_image], cmap='inferno')\n",
    "plt.show() \n",
    "\n",
    "plt.figure(figsize=(10, 2))\n",
    "print(\"Test Image with Noise\")\n",
    "plt.imshow(testX_noise[num_image], cmap='inferno')\n",
    "plt.show()    \n",
    "\n",
    "plt.figure(figsize=(10, 2))\n",
    "print(\"Reconstruction of Noisy Test Images\")\n",
    "plt.imshow(pred[num_image], cmap='inferno')  \n",
    "plt.show()"
   ]
  },
  {
   "cell_type": "code",
   "execution_count": null,
   "id": "f5686814",
   "metadata": {},
   "outputs": [],
   "source": []
  }
 ],
 "metadata": {
  "kernelspec": {
   "display_name": "Python 3 (ipykernel)",
   "language": "python",
   "name": "python3"
  },
  "language_info": {
   "codemirror_mode": {
    "name": "ipython",
    "version": 3
   },
   "file_extension": ".py",
   "mimetype": "text/x-python",
   "name": "python",
   "nbconvert_exporter": "python",
   "pygments_lexer": "ipython3",
   "version": "3.10.9"
  }
 },
 "nbformat": 4,
 "nbformat_minor": 5
}
