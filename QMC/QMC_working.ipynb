{
 "cells": [
  {
   "cell_type": "code",
   "execution_count": 1,
   "id": "391ca124",
   "metadata": {},
   "outputs": [],
   "source": [
    "import qutip as qt\n",
    "import numpy as np\n",
    "import QMC as qmc\n",
    "from pulsee import simulation as sim"
   ]
  },
  {
   "cell_type": "code",
   "execution_count": 2,
   "id": "269f8747",
   "metadata": {},
   "outputs": [],
   "source": [
    "rho_0, ops, ops_qubit, proj_ops, Id_S, Id = qmc.gen_initial_state(2)"
   ]
  },
  {
   "cell_type": "code",
   "execution_count": 3,
   "id": "f6b90956",
   "metadata": {},
   "outputs": [],
   "source": [
    "Ix, Iy, Iz = ops\n",
    "# Apply a \\pi/2 pulse\n",
    "rho_0 = sim.apply_rot_pulse(rho_0, np.pi/2, Iy)"
   ]
  },
  {
   "cell_type": "code",
   "execution_count": 4,
   "id": "c6d34dba",
   "metadata": {},
   "outputs": [],
   "source": [
    "# A pure state\n",
    "'''Uncomment these to use the pure state instead'''\n",
    "rho_0 = Ix.eigenstates()[1][0]\n",
    "rho_0 = rho_0 * rho_0.dag()"
   ]
  },
  {
   "cell_type": "code",
   "execution_count": 5,
   "id": "c294c745",
   "metadata": {},
   "outputs": [
    {
     "data": {
      "text/latex": [
       "Quantum object: dims = [[2, 2], [2, 2]], shape = (4, 4), type = oper, isherm = True $ \\\\ \\left(\\begin{matrix}0.250 & -0.250 & -0.250 & 0.250\\\\-0.250 & 0.250 & 0.250 & -0.250\\\\-0.250 & 0.250 & 0.250 & -0.250\\\\0.250 & -0.250 & -0.250 & 0.250\\\\\\end{matrix}\\right)$"
      ],
      "text/plain": [
       "Quantum object: dims = [[2, 2], [2, 2]], shape = (4, 4), type = oper, isherm = True\n",
       "Qobj data =\n",
       "[[ 0.25 -0.25 -0.25  0.25]\n",
       " [-0.25  0.25  0.25 -0.25]\n",
       " [-0.25  0.25  0.25 -0.25]\n",
       " [ 0.25 -0.25 -0.25  0.25]]"
      ]
     },
     "execution_count": 5,
     "metadata": {},
     "output_type": "execute_result"
    }
   ],
   "source": [
    "rho_0"
   ]
  },
  {
   "cell_type": "code",
   "execution_count": 6,
   "id": "bc17c8f6",
   "metadata": {},
   "outputs": [],
   "source": [
    "measurement = np.array(qmc.perform_meas(rho_0))\n",
    "\n",
    "# Find all the nonzero measurements\n",
    "nonzero = np.nonzero(measurement)[0]\n",
    "\n",
    "# Mask p perctange of them (set to 0)\n",
    "p = .6\n",
    "to_mask = np.random.choice(nonzero[1:], int(p*(len(nonzero)-1)), replace=False)\n",
    "measurement[to_mask] = 0"
   ]
  },
  {
   "cell_type": "code",
   "execution_count": 7,
   "id": "9f461924",
   "metadata": {},
   "outputs": [],
   "source": [
    "# Reconstruct the measured state \n",
    "init_state = qmc.recover_state(measurement)"
   ]
  },
  {
   "cell_type": "code",
   "execution_count": 8,
   "id": "88803e4d",
   "metadata": {},
   "outputs": [
    {
     "data": {
      "text/latex": [
       "Quantum object: dims = [[2, 2], [2, 2]], shape = (4, 4), type = oper, isherm = True $ \\\\ \\left(\\begin{matrix}0.250 & -0.250 & 0.0 & 0.250\\\\-0.250 & 0.250 & 0.250 & 0.0\\\\0.0 & 0.250 & 0.250 & -0.250\\\\0.250 & 0.0 & -0.250 & 0.250\\\\\\end{matrix}\\right)$"
      ],
      "text/plain": [
       "Quantum object: dims = [[2, 2], [2, 2]], shape = (4, 4), type = oper, isherm = True\n",
       "Qobj data =\n",
       "[[ 0.25 -0.25  0.    0.25]\n",
       " [-0.25  0.25  0.25  0.  ]\n",
       " [ 0.    0.25  0.25 -0.25]\n",
       " [ 0.25  0.   -0.25  0.25]]"
      ]
     },
     "execution_count": 8,
     "metadata": {},
     "output_type": "execute_result"
    }
   ],
   "source": [
    "init_state"
   ]
  },
  {
   "cell_type": "code",
   "execution_count": 9,
   "id": "3bb5c8a1",
   "metadata": {},
   "outputs": [
    {
     "data": {
      "text/latex": [
       "Quantum object: dims = [[2, 2], [2, 2]], shape = (4, 4), type = oper, isherm = True $ \\\\ \\left(\\begin{matrix}0.250 & -0.250 & -0.250 & 0.250\\\\-0.250 & 0.250 & 0.250 & -0.250\\\\-0.250 & 0.250 & 0.250 & -0.250\\\\0.250 & -0.250 & -0.250 & 0.250\\\\\\end{matrix}\\right)$"
      ],
      "text/plain": [
       "Quantum object: dims = [[2, 2], [2, 2]], shape = (4, 4), type = oper, isherm = True\n",
       "Qobj data =\n",
       "[[ 0.25 -0.25 -0.25  0.25]\n",
       " [-0.25  0.25  0.25 -0.25]\n",
       " [-0.25  0.25  0.25 -0.25]\n",
       " [ 0.25 -0.25 -0.25  0.25]]"
      ]
     },
     "execution_count": 9,
     "metadata": {},
     "output_type": "execute_result"
    }
   ],
   "source": [
    "rho_0"
   ]
  },
  {
   "cell_type": "code",
   "execution_count": 10,
   "id": "140a40f8",
   "metadata": {},
   "outputs": [
    {
     "data": {
      "text/plain": [
       "0.866"
      ]
     },
     "execution_count": 10,
     "metadata": {},
     "output_type": "execute_result"
    }
   ],
   "source": [
    "np.round(qmc.fidelity(rho_0, init_state), 4)"
   ]
  },
  {
   "cell_type": "code",
   "execution_count": 11,
   "id": "c56e197f",
   "metadata": {},
   "outputs": [
    {
     "name": "stderr",
     "output_type": "stream",
     "text": [
      "  0%|                                                                                | 1/20000 [00:00<03:59, 83.59it/s]\n"
     ]
    }
   ],
   "source": [
    "rec_svt, rec_svt1 = qmc.svt(init_state, eps=1e-6, delta=1e-2, k0=5.23e-1, steps=20000, rank=1)"
   ]
  },
  {
   "cell_type": "code",
   "execution_count": 12,
   "id": "7e3bf778",
   "metadata": {},
   "outputs": [
    {
     "data": {
      "text/latex": [
       "Quantum object: dims = [[2, 2], [2, 2]], shape = (4, 4), type = oper, isherm = True $ \\\\ \\left(\\begin{matrix}0.250 & -0.250 & -0.250 & 0.250\\\\-0.250 & 0.250 & 0.250 & -0.250\\\\-0.250 & 0.250 & 0.250 & -0.250\\\\0.250 & -0.250 & -0.250 & 0.250\\\\\\end{matrix}\\right)$"
      ],
      "text/plain": [
       "Quantum object: dims = [[2, 2], [2, 2]], shape = (4, 4), type = oper, isherm = True\n",
       "Qobj data =\n",
       "[[ 0.24999999 -0.24999999 -0.24999999  0.24999999]\n",
       " [-0.24999999  0.24999999  0.24999999 -0.24999999]\n",
       " [-0.24999999  0.24999999  0.24999999 -0.24999999]\n",
       " [ 0.24999999 -0.24999999 -0.24999999  0.24999999]]"
      ]
     },
     "execution_count": 12,
     "metadata": {},
     "output_type": "execute_result"
    }
   ],
   "source": [
    "rec_svt1"
   ]
  },
  {
   "cell_type": "code",
   "execution_count": 13,
   "id": "4c2b5770",
   "metadata": {},
   "outputs": [
    {
     "data": {
      "text/latex": [
       "Quantum object: dims = [[2, 2], [2, 2]], shape = (4, 4), type = oper, isherm = True $ \\\\ \\left(\\begin{matrix}0.250 & -0.250 & -0.250 & 0.250\\\\-0.250 & 0.250 & 0.250 & -0.250\\\\-0.250 & 0.250 & 0.250 & -0.250\\\\0.250 & -0.250 & -0.250 & 0.250\\\\\\end{matrix}\\right)$"
      ],
      "text/plain": [
       "Quantum object: dims = [[2, 2], [2, 2]], shape = (4, 4), type = oper, isherm = True\n",
       "Qobj data =\n",
       "[[ 0.25 -0.25 -0.25  0.25]\n",
       " [-0.25  0.25  0.25 -0.25]\n",
       " [-0.25  0.25  0.25 -0.25]\n",
       " [ 0.25 -0.25 -0.25  0.25]]"
      ]
     },
     "execution_count": 13,
     "metadata": {},
     "output_type": "execute_result"
    }
   ],
   "source": [
    "rho_0"
   ]
  },
  {
   "cell_type": "code",
   "execution_count": 14,
   "id": "11590ac7",
   "metadata": {},
   "outputs": [
    {
     "data": {
      "text/plain": [
       "1.0"
      ]
     },
     "execution_count": 14,
     "metadata": {},
     "output_type": "execute_result"
    }
   ],
   "source": [
    "np.round(qmc.fidelity(rho_0, rec_svt1), 4)"
   ]
  },
  {
   "cell_type": "code",
   "execution_count": 15,
   "id": "f6dddac0",
   "metadata": {},
   "outputs": [
    {
     "name": "stderr",
     "output_type": "stream",
     "text": [
      "  6%|████▎                                                                          | 55/1000 [00:00<00:07, 119.23it/s]\n"
     ]
    }
   ],
   "source": [
    "rec_admm, rec_admm1 = qmc.admm(init_state, eps=1e-10, rho=5, L=9e-2,)"
   ]
  },
  {
   "cell_type": "code",
   "execution_count": 16,
   "id": "86897c4d",
   "metadata": {},
   "outputs": [
    {
     "data": {
      "text/plain": [
       "1.0"
      ]
     },
     "execution_count": 16,
     "metadata": {},
     "output_type": "execute_result"
    }
   ],
   "source": [
    "np.round(qmc.fidelity(rho_0, rec_admm1), 4)"
   ]
  },
  {
   "cell_type": "code",
   "execution_count": 17,
   "id": "85861e70",
   "metadata": {},
   "outputs": [
    {
     "name": "stderr",
     "output_type": "stream",
     "text": [
      "  3%|██▎                                                                            | 29/1000 [00:00<00:04, 213.96it/s]\n"
     ]
    }
   ],
   "source": [
    "rec_fista, rec_fista1 = qmc.fista_with_nesterov(init_state, eps=1e-10, L=9e-2)"
   ]
  },
  {
   "cell_type": "code",
   "execution_count": 18,
   "id": "393ad756",
   "metadata": {},
   "outputs": [
    {
     "data": {
      "text/latex": [
       "Quantum object: dims = [[2, 2], [2, 2]], shape = (4, 4), type = oper, isherm = True $ \\\\ \\left(\\begin{matrix}0.250 & -0.250 & -0.250 & 0.250\\\\-0.250 & 0.250 & 0.250 & -0.250\\\\-0.250 & 0.250 & 0.250 & -0.250\\\\0.250 & -0.250 & -0.250 & 0.250\\\\\\end{matrix}\\right)$"
      ],
      "text/plain": [
       "Quantum object: dims = [[2, 2], [2, 2]], shape = (4, 4), type = oper, isherm = True\n",
       "Qobj data =\n",
       "[[ 0.25 -0.25 -0.25  0.25]\n",
       " [-0.25  0.25  0.25 -0.25]\n",
       " [-0.25  0.25  0.25 -0.25]\n",
       " [ 0.25 -0.25 -0.25  0.25]]"
      ]
     },
     "execution_count": 18,
     "metadata": {},
     "output_type": "execute_result"
    }
   ],
   "source": [
    "rec_fista1"
   ]
  },
  {
   "cell_type": "code",
   "execution_count": 19,
   "id": "5c2132e6",
   "metadata": {},
   "outputs": [
    {
     "data": {
      "text/latex": [
       "Quantum object: dims = [[2, 2], [2, 2]], shape = (4, 4), type = oper, isherm = True $ \\\\ \\left(\\begin{matrix}0.250 & -0.250 & -0.250 & 0.250\\\\-0.250 & 0.250 & 0.250 & -0.250\\\\-0.250 & 0.250 & 0.250 & -0.250\\\\0.250 & -0.250 & -0.250 & 0.250\\\\\\end{matrix}\\right)$"
      ],
      "text/plain": [
       "Quantum object: dims = [[2, 2], [2, 2]], shape = (4, 4), type = oper, isherm = True\n",
       "Qobj data =\n",
       "[[ 0.25 -0.25 -0.25  0.25]\n",
       " [-0.25  0.25  0.25 -0.25]\n",
       " [-0.25  0.25  0.25 -0.25]\n",
       " [ 0.25 -0.25 -0.25  0.25]]"
      ]
     },
     "execution_count": 19,
     "metadata": {},
     "output_type": "execute_result"
    }
   ],
   "source": [
    "rho_0"
   ]
  },
  {
   "cell_type": "code",
   "execution_count": 20,
   "id": "e56b80e4",
   "metadata": {},
   "outputs": [
    {
     "data": {
      "text/plain": [
       "1.0"
      ]
     },
     "execution_count": 20,
     "metadata": {},
     "output_type": "execute_result"
    }
   ],
   "source": [
    "np.round(qmc.fidelity(rho_0, rec_fista1), 4)"
   ]
  },
  {
   "cell_type": "code",
   "execution_count": null,
   "id": "012659ba",
   "metadata": {},
   "outputs": [],
   "source": []
  }
 ],
 "metadata": {
  "kernelspec": {
   "display_name": "Python 3 (ipykernel)",
   "language": "python",
   "name": "python3"
  },
  "language_info": {
   "codemirror_mode": {
    "name": "ipython",
    "version": 3
   },
   "file_extension": ".py",
   "mimetype": "text/x-python",
   "name": "python",
   "nbconvert_exporter": "python",
   "pygments_lexer": "ipython3",
   "version": "3.10.10"
  }
 },
 "nbformat": 4,
 "nbformat_minor": 5
}
