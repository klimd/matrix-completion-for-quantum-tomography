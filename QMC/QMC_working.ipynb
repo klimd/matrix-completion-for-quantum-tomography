{
 "cells": [
  {
   "cell_type": "code",
   "execution_count": 1,
   "id": "391ca124",
   "metadata": {},
   "outputs": [],
   "source": [
    "import qutip as qt\n",
    "import numpy as np\n",
    "import QMC as qmc\n",
    "from pulsee import simulation as sim"
   ]
  },
  {
   "cell_type": "code",
   "execution_count": 2,
   "id": "269f8747",
   "metadata": {},
   "outputs": [],
   "source": [
    "rho_0, ops, ops_qubit, proj_ops, Id_S, Id = qmc.gen_initial_state(2)"
   ]
  },
  {
   "cell_type": "code",
   "execution_count": 3,
   "id": "f6b90956",
   "metadata": {},
   "outputs": [],
   "source": [
    "Ix, Iy, Iz = ops\n",
    "# Apply a \\pi/2 pulse\n",
    "rho_0 = sim.apply_rot_pulse(rho_0, np.pi/2, Ix)"
   ]
  },
  {
   "cell_type": "code",
   "execution_count": 4,
   "id": "c294c745",
   "metadata": {},
   "outputs": [
    {
     "data": {
      "text/latex": [
       "Quantum object: dims = [[2, 2], [2, 2]], shape = (4, 4), type = oper, isherm = True $ \\\\ \\left(\\begin{matrix}0.250 & 0.132j & 0.137j & -0.073\\\\-0.132j & 0.250 & 0.073 & 0.137j\\\\-0.137j & 0.073 & 0.250 & 0.132j\\\\-0.073 & -0.137j & -0.132j & 0.250\\\\\\end{matrix}\\right)$"
      ],
      "text/plain": [
       "Quantum object: dims = [[2, 2], [2, 2]], shape = (4, 4), type = oper, isherm = True\n",
       "Qobj data =\n",
       "[[ 0.25      +0.j          0.        +0.13211633j  0.        +0.13746279j\n",
       "  -0.07264432+0.j        ]\n",
       " [ 0.        -0.13211633j  0.25      +0.j          0.07264432+0.j\n",
       "   0.        +0.13746279j]\n",
       " [ 0.        -0.13746279j  0.07264432+0.j          0.25      +0.j\n",
       "   0.        +0.13211633j]\n",
       " [-0.07264432+0.j          0.        -0.13746279j  0.        -0.13211633j\n",
       "   0.25      +0.j        ]]"
      ]
     },
     "execution_count": 4,
     "metadata": {},
     "output_type": "execute_result"
    }
   ],
   "source": [
    "rho_0"
   ]
  },
  {
   "cell_type": "code",
   "execution_count": 5,
   "id": "bc17c8f6",
   "metadata": {},
   "outputs": [],
   "source": [
    "measurement = np.array(qmc.perform_meas(rho_0))\n",
    "\n",
    "# Find all the nonzero measurements\n",
    "nonzero = np.nonzero(measurement)[0]\n",
    "\n",
    "# Mask p perctange of them (set to 0)\n",
    "p = .6\n",
    "to_mask = np.random.choice(nonzero[1:], int(p*(len(nonzero)-1)), replace=False)\n",
    "measurement[to_mask] = 0"
   ]
  },
  {
   "cell_type": "code",
   "execution_count": 6,
   "id": "9f461924",
   "metadata": {},
   "outputs": [],
   "source": [
    "# Reconstruct the measured state \n",
    "init_state = qmc.recover_state(measurement)"
   ]
  },
  {
   "cell_type": "code",
   "execution_count": 7,
   "id": "88803e4d",
   "metadata": {},
   "outputs": [
    {
     "data": {
      "text/latex": [
       "Quantum object: dims = [[2, 2], [2, 2]], shape = (4, 4), type = oper, isherm = True $ \\\\ \\left(\\begin{matrix}0.250 & 0.132j & 0.137j & 0.0\\\\-0.132j & 0.250 & 0.0 & 0.137j\\\\-0.137j & 0.0 & 0.250 & 0.132j\\\\0.0 & -0.137j & -0.132j & 0.250\\\\\\end{matrix}\\right)$"
      ],
      "text/plain": [
       "Quantum object: dims = [[2, 2], [2, 2]], shape = (4, 4), type = oper, isherm = True\n",
       "Qobj data =\n",
       "[[0.25+0.j         0.  +0.13211633j 0.  +0.13746279j 0.  +0.j        ]\n",
       " [0.  -0.13211633j 0.25+0.j         0.  +0.j         0.  +0.13746279j]\n",
       " [0.  -0.13746279j 0.  +0.j         0.25+0.j         0.  +0.13211633j]\n",
       " [0.  +0.j         0.  -0.13746279j 0.  -0.13211633j 0.25+0.j        ]]"
      ]
     },
     "execution_count": 7,
     "metadata": {},
     "output_type": "execute_result"
    }
   ],
   "source": [
    "init_state"
   ]
  },
  {
   "cell_type": "code",
   "execution_count": 8,
   "id": "3bb5c8a1",
   "metadata": {},
   "outputs": [
    {
     "data": {
      "text/latex": [
       "Quantum object: dims = [[2, 2], [2, 2]], shape = (4, 4), type = oper, isherm = True $ \\\\ \\left(\\begin{matrix}0.250 & 0.132j & 0.137j & -0.073\\\\-0.132j & 0.250 & 0.073 & 0.137j\\\\-0.137j & 0.073 & 0.250 & 0.132j\\\\-0.073 & -0.137j & -0.132j & 0.250\\\\\\end{matrix}\\right)$"
      ],
      "text/plain": [
       "Quantum object: dims = [[2, 2], [2, 2]], shape = (4, 4), type = oper, isherm = True\n",
       "Qobj data =\n",
       "[[ 0.25      +0.j          0.        +0.13211633j  0.        +0.13746279j\n",
       "  -0.07264432+0.j        ]\n",
       " [ 0.        -0.13211633j  0.25      +0.j          0.07264432+0.j\n",
       "   0.        +0.13746279j]\n",
       " [ 0.        -0.13746279j  0.07264432+0.j          0.25      +0.j\n",
       "   0.        +0.13211633j]\n",
       " [-0.07264432+0.j          0.        -0.13746279j  0.        -0.13211633j\n",
       "   0.25      +0.j        ]]"
      ]
     },
     "execution_count": 8,
     "metadata": {},
     "output_type": "execute_result"
    }
   ],
   "source": [
    "rho_0"
   ]
  },
  {
   "cell_type": "code",
   "execution_count": 9,
   "id": "b1baaca2",
   "metadata": {},
   "outputs": [
    {
     "data": {
      "text/plain": [
       "0.975845516772644"
      ]
     },
     "execution_count": 9,
     "metadata": {},
     "output_type": "execute_result"
    }
   ],
   "source": [
    "qt.fidelity(rho_0, init_state)"
   ]
  },
  {
   "cell_type": "code",
   "execution_count": 10,
   "id": "140a40f8",
   "metadata": {},
   "outputs": [
    {
     "data": {
      "text/plain": [
       "0.974330575"
      ]
     },
     "execution_count": 10,
     "metadata": {},
     "output_type": "execute_result"
    }
   ],
   "source": [
    "qmc.fidelity(rho_0, init_state)"
   ]
  },
  {
   "cell_type": "code",
   "execution_count": 11,
   "id": "c56e197f",
   "metadata": {},
   "outputs": [
    {
     "name": "stderr",
     "output_type": "stream",
     "text": [
      "100%|█████████████████████████████████████████████████████████████████████████████████| 40/40 [00:00<00:00, 212.36it/s]\n"
     ]
    }
   ],
   "source": [
    "rec_svt, rec_svt1 = qmc.svt(init_state, eps=1e-8, delta=3e-3, k0=5.23e-1, steps=40)"
   ]
  },
  {
   "cell_type": "code",
   "execution_count": 12,
   "id": "b8c404d2",
   "metadata": {},
   "outputs": [
    {
     "data": {
      "text/plain": [
       "0.8742847912537501"
      ]
     },
     "execution_count": 12,
     "metadata": {},
     "output_type": "execute_result"
    }
   ],
   "source": [
    "qt.fidelity(rho_0, rec_svt1)"
   ]
  },
  {
   "cell_type": "code",
   "execution_count": 13,
   "id": "11590ac7",
   "metadata": {},
   "outputs": [
    {
     "data": {
      "text/plain": [
       "(0.9450937744+0j)"
      ]
     },
     "execution_count": 13,
     "metadata": {},
     "output_type": "execute_result"
    }
   ],
   "source": [
    "qmc.fidelity(rho_0, rec_svt1)"
   ]
  },
  {
   "cell_type": "code",
   "execution_count": 14,
   "id": "97502fd2",
   "metadata": {},
   "outputs": [
    {
     "data": {
      "text/latex": [
       "Quantum object: dims = [[2, 2], [2, 2]], shape = (4, 4), type = oper, isherm = True $ \\\\ \\left(\\begin{matrix}0.250 & 0.132j & 0.137j & 0.0\\\\-0.132j & 0.250 & 0.0 & 0.137j\\\\-0.137j & 0.0 & 0.250 & 0.132j\\\\0.0 & -0.137j & -0.132j & 0.250\\\\\\end{matrix}\\right)$"
      ],
      "text/plain": [
       "Quantum object: dims = [[2, 2], [2, 2]], shape = (4, 4), type = oper, isherm = True\n",
       "Qobj data =\n",
       "[[0.25+0.j         0.  +0.13211633j 0.  +0.13746279j 0.  +0.j        ]\n",
       " [0.  -0.13211633j 0.25+0.j         0.  +0.j         0.  +0.13746279j]\n",
       " [0.  -0.13746279j 0.  +0.j         0.25+0.j         0.  +0.13211633j]\n",
       " [0.  +0.j         0.  -0.13746279j 0.  -0.13211633j 0.25+0.j        ]]"
      ]
     },
     "execution_count": 14,
     "metadata": {},
     "output_type": "execute_result"
    }
   ],
   "source": [
    "init_state"
   ]
  },
  {
   "cell_type": "code",
   "execution_count": 15,
   "id": "f6dddac0",
   "metadata": {},
   "outputs": [
    {
     "name": "stderr",
     "output_type": "stream",
     "text": [
      "  0%|▏                                                                                | 3/1000 [00:00<00:11, 86.00it/s]\n"
     ]
    }
   ],
   "source": [
    "rec_admm, rec_admm1 = qmc.admm(init_state, eps=1e-4, rho=5, L=9e-2,)"
   ]
  },
  {
   "cell_type": "code",
   "execution_count": 16,
   "id": "86f18231",
   "metadata": {},
   "outputs": [
    {
     "data": {
      "text/plain": [
       "0.9906590158836663"
      ]
     },
     "execution_count": 16,
     "metadata": {},
     "output_type": "execute_result"
    }
   ],
   "source": [
    "qt.fidelity(rho_0, rec_admm1)"
   ]
  },
  {
   "cell_type": "code",
   "execution_count": 17,
   "id": "86897c4d",
   "metadata": {},
   "outputs": [
    {
     "data": {
      "text/plain": [
       "0.9922317055"
      ]
     },
     "execution_count": 17,
     "metadata": {},
     "output_type": "execute_result"
    }
   ],
   "source": [
    "qmc.fidelity(rho_0, rec_admm1)"
   ]
  },
  {
   "cell_type": "code",
   "execution_count": 18,
   "id": "85861e70",
   "metadata": {},
   "outputs": [
    {
     "name": "stderr",
     "output_type": "stream",
     "text": [
      "  1%|▌                                                                               | 7/1000 [00:00<00:04, 200.64it/s]\n"
     ]
    }
   ],
   "source": [
    "rec_fista, rec_fista1 = qmc.fista_with_nesterov(init_state, eps=1e-10, L=9e-2, max_num_iterations=1000)"
   ]
  },
  {
   "cell_type": "code",
   "execution_count": 19,
   "id": "393ad756",
   "metadata": {},
   "outputs": [
    {
     "data": {
      "text/latex": [
       "Quantum object: dims = [[2, 2], [2, 2]], shape = (4, 4), type = oper, isherm = True $ \\\\ \\left(\\begin{matrix}0.250 & 0.206j & 0.215j & -0.181\\\\-0.206j & 0.250 & 0.181 & 0.215j\\\\-0.215j & 0.181 & 0.250 & 0.206j\\\\-0.181 & -0.215j & -0.206j & 0.250\\\\\\end{matrix}\\right)$"
      ],
      "text/plain": [
       "Quantum object: dims = [[2, 2], [2, 2]], shape = (4, 4), type = oper, isherm = True\n",
       "Qobj data =\n",
       "[[ 0.25      +0.j          0.        +0.20643177j  0.        +0.21478561j\n",
       "  -0.18136287+0.j        ]\n",
       " [ 0.        -0.20643177j  0.25      +0.j          0.18136287+0.j\n",
       "   0.        +0.21478561j]\n",
       " [ 0.        -0.21478561j  0.18136287+0.j          0.25      +0.j\n",
       "   0.        +0.20643177j]\n",
       " [-0.18136287+0.j          0.        -0.21478561j  0.        -0.20643177j\n",
       "   0.25      +0.j        ]]"
      ]
     },
     "execution_count": 19,
     "metadata": {},
     "output_type": "execute_result"
    }
   ],
   "source": [
    "rec_fista1"
   ]
  },
  {
   "cell_type": "code",
   "execution_count": 20,
   "id": "5c2132e6",
   "metadata": {},
   "outputs": [
    {
     "data": {
      "text/latex": [
       "Quantum object: dims = [[2, 2], [2, 2]], shape = (4, 4), type = oper, isherm = True $ \\\\ \\left(\\begin{matrix}0.250 & 0.132j & 0.137j & -0.073\\\\-0.132j & 0.250 & 0.073 & 0.137j\\\\-0.137j & 0.073 & 0.250 & 0.132j\\\\-0.073 & -0.137j & -0.132j & 0.250\\\\\\end{matrix}\\right)$"
      ],
      "text/plain": [
       "Quantum object: dims = [[2, 2], [2, 2]], shape = (4, 4), type = oper, isherm = True\n",
       "Qobj data =\n",
       "[[ 0.25      +0.j          0.        +0.13211633j  0.        +0.13746279j\n",
       "  -0.07264432+0.j        ]\n",
       " [ 0.        -0.13211633j  0.25      +0.j          0.07264432+0.j\n",
       "   0.        +0.13746279j]\n",
       " [ 0.        -0.13746279j  0.07264432+0.j          0.25      +0.j\n",
       "   0.        +0.13211633j]\n",
       " [-0.07264432+0.j          0.        -0.13746279j  0.        -0.13211633j\n",
       "   0.25      +0.j        ]]"
      ]
     },
     "execution_count": 20,
     "metadata": {},
     "output_type": "execute_result"
    }
   ],
   "source": [
    "rho_0"
   ]
  },
  {
   "cell_type": "code",
   "execution_count": 21,
   "id": "063d8ce0",
   "metadata": {},
   "outputs": [
    {
     "data": {
      "text/plain": [
       "0.975845516772644"
      ]
     },
     "execution_count": 21,
     "metadata": {},
     "output_type": "execute_result"
    }
   ],
   "source": [
    "qt.fidelity(rho_0, init_state)"
   ]
  },
  {
   "cell_type": "code",
   "execution_count": 22,
   "id": "d7405731",
   "metadata": {},
   "outputs": [
    {
     "data": {
      "text/plain": [
       "0.9542102751907625"
      ]
     },
     "execution_count": 22,
     "metadata": {},
     "output_type": "execute_result"
    }
   ],
   "source": [
    "qt.fidelity(rho_0, rec_fista1)"
   ]
  },
  {
   "cell_type": "code",
   "execution_count": 23,
   "id": "4229c760",
   "metadata": {},
   "outputs": [
    {
     "data": {
      "text/plain": [
       "0.974330575"
      ]
     },
     "execution_count": 23,
     "metadata": {},
     "output_type": "execute_result"
    }
   ],
   "source": [
    "qmc.fidelity(rho_0, init_state)"
   ]
  },
  {
   "cell_type": "code",
   "execution_count": 24,
   "id": "e56b80e4",
   "metadata": {},
   "outputs": [
    {
     "data": {
      "text/plain": [
       "0.956688172"
      ]
     },
     "execution_count": 24,
     "metadata": {},
     "output_type": "execute_result"
    }
   ],
   "source": [
    "qmc.fidelity(rho_0, rec_fista1)"
   ]
  },
  {
   "cell_type": "code",
   "execution_count": null,
   "id": "012659ba",
   "metadata": {},
   "outputs": [],
   "source": []
  }
 ],
 "metadata": {
  "kernelspec": {
   "display_name": "Python 3 (ipykernel)",
   "language": "python",
   "name": "python3"
  },
  "language_info": {
   "codemirror_mode": {
    "name": "ipython",
    "version": 3
   },
   "file_extension": ".py",
   "mimetype": "text/x-python",
   "name": "python",
   "nbconvert_exporter": "python",
   "pygments_lexer": "ipython3",
   "version": "3.10.9"
  }
 },
 "nbformat": 4,
 "nbformat_minor": 5
}
